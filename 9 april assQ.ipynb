{
 "cells": [
  {
   "cell_type": "markdown",
   "id": "27653a15-aa19-4ae1-8e3c-20fc87d73925",
   "metadata": {},
   "source": [
    "## Naïve bayes-1"
   ]
  },
  {
   "cell_type": "markdown",
   "id": "8267ebef-f28c-4b63-ad5a-45296a3f0be6",
   "metadata": {},
   "source": [
    "### Assignment Questions"
   ]
  },
  {
   "cell_type": "raw",
   "id": "33104507-5d64-4b6d-a2c0-534195bf8ecb",
   "metadata": {},
   "source": [
    "Q1. What is Bayes' theorem?"
   ]
  },
  {
   "cell_type": "markdown",
   "id": "26a66594-6ad4-46cb-84cf-06f123f36dc2",
   "metadata": {},
   "source": [
    "Bayes' Theorem states that the conditional probability of an event, based on the occurrence of another event, is equal to the likelihood of the second event given the first event multiplied by the probability of the first event"
   ]
  },
  {
   "cell_type": "raw",
   "id": "325ade32-2be4-46c9-888b-c4593031308d",
   "metadata": {},
   "source": [
    "Q2. What is the formula for Bayes' theorem?"
   ]
  },
  {
   "cell_type": "markdown",
   "id": "8827ff58-0eff-490d-9280-f227ad33d34e",
   "metadata": {},
   "source": [
    "Bayes theorem is used to determine conditional probability. When two events A and B are independent P(A|B) = P(A) and P(B|A) = P(B)"
   ]
  },
  {
   "cell_type": "raw",
   "id": "92b916d5-3e08-4cd9-a4b6-a6c061e3f034",
   "metadata": {},
   "source": [
    "Q3. How is Bayes' theorem used in practice?\n"
   ]
  },
  {
   "cell_type": "markdown",
   "id": "a42c5286-8c66-427b-92f3-5ffe7cf5dd3a",
   "metadata": {},
   "source": [
    "One of the most well-known theories in machine learning, the Bayes theorem helps determine the likelihood that one event will occur with unclear information while another has already happened. The mathematical formulation of the Bayes theorem is P X Y = P Y X · P X P Y ."
   ]
  },
  {
   "cell_type": "raw",
   "id": "5898ff81-8e85-44ec-8d2a-8fefa7167dc1",
   "metadata": {},
   "source": [
    "Q4. What is the relationship between Bayes' theorem and conditional probability?"
   ]
  },
  {
   "cell_type": "markdown",
   "id": "b589981a-4225-48a6-af3d-8d1ab69bd1f3",
   "metadata": {},
   "source": [
    "Bayes' theorem is a formula that describes how to update the probabilities of hypotheses when given evidence. It follows simply from the axioms of conditional probability, but can be used to powerfully reason about a wide range of problems involving belief updates."
   ]
  },
  {
   "cell_type": "raw",
   "id": "210e5c7b-42c8-41c8-88f9-135f49153f41",
   "metadata": {},
   "source": [
    "Q5. How do you choose which type of Naive Bayes classifier to use for any given problem?"
   ]
  },
  {
   "cell_type": "markdown",
   "id": "e0524e9e-f03b-42af-a45b-9b4e747d001c",
   "metadata": {},
   "source": [
    "Step 1: Calculate the prior probability for given class labels. Step 2: Find Likelihood probability with each attribute for each class. Step 3: Put these value in Bayes Formula and calculate posterior probability. Step 4: See which class has a higher probability, given the input belongs to the higher probability class."
   ]
  },
  {
   "cell_type": "code",
   "execution_count": null,
   "id": "52a45929-a545-4330-9a89-05fc767a9434",
   "metadata": {},
   "outputs": [],
   "source": []
  }
 ],
 "metadata": {
  "kernelspec": {
   "display_name": "Python 3 (ipykernel)",
   "language": "python",
   "name": "python3"
  },
  "language_info": {
   "codemirror_mode": {
    "name": "ipython",
    "version": 3
   },
   "file_extension": ".py",
   "mimetype": "text/x-python",
   "name": "python",
   "nbconvert_exporter": "python",
   "pygments_lexer": "ipython3",
   "version": "3.10.8"
  }
 },
 "nbformat": 4,
 "nbformat_minor": 5
}
